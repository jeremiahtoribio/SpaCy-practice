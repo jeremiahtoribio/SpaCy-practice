{
 "cells": [
  {
   "cell_type": "code",
   "execution_count": 21,
   "metadata": {},
   "outputs": [],
   "source": [
    "import spacy\n",
    "import en_core_web_sm\n",
    "from goose3 import Goose\n",
    "from spacy import displacy\n",
    "import nltk\n",
    "import string\n",
    "from wordcloud import WordCloud\n",
    "import matplotlib.pyplot as plt"
   ]
  },
  {
   "cell_type": "code",
   "execution_count": 22,
   "metadata": {},
   "outputs": [],
   "source": [
    "nlp = spacy.load(\"en_core_web_sm\")"
   ]
  },
  {
   "cell_type": "code",
   "execution_count": 23,
   "metadata": {},
   "outputs": [
    {
     "data": {
      "text/plain": [
       "<spacy.lang.en.English at 0x16bce7d90>"
      ]
     },
     "execution_count": 23,
     "metadata": {},
     "output_type": "execute_result"
    }
   ],
   "source": [
    "nlp"
   ]
  },
  {
   "cell_type": "code",
   "execution_count": 24,
   "metadata": {},
   "outputs": [],
   "source": [
    "g = Goose()\n",
    "url = 'https://en.wikipedia.org/wiki/The_Mandalorian'\n",
    "article = g.extract(url)"
   ]
  },
  {
   "cell_type": "code",
   "execution_count": 25,
   "metadata": {},
   "outputs": [
    {
     "data": {
      "text/plain": [
       "The Mandalorian is an American space western television series created by Jon Favreau for the streaming service Disney+. It is the first live-action series in the Star Wars franchise, beginning five years after the events of Return of the Jedi (1983), and stars Pedro Pascal as the title character, a lone bounty hunter who goes on the run to protect \"the Child\".\n",
       "\n",
       "Star Wars creator George Lucas had begun developing a live-action Star Wars television series by 2009, but this project was deemed too expensive to produce. He sold Lucasfilm to Disney in October 2012. Subsequently, work on a new Star Wars series began for Disney+. Favreau signed on in March 2018, serving as writer and showrunner. He executive produces alongside Dave Filoni, Kathleen Kennedy, and Colin Wilson. The series' title was announced in October 2018, with filming starting at Manhattan Beach Studios in California. Visual effects company Industrial Light & Magic developed the StageCraft technology for the series, using virtual sets and a 360-degree video wall to create the series' environments. This has since been adopted by other film and television productions.\n",
       "\n",
       "The Mandalorian premiered with the launch of Disney+ on November 12, 2019. The eight-episode first season was met with positive reviews, was nominated for Outstanding Drama Series at the 72nd Primetime Emmy Awards, and won seven Primetime Creative Arts Emmy Awards. A second season premiered on October 30, 2020, to positive reviews, and a third season is scheduled to be released in February 2023. A fourth season is in development. Interconnected spin-off series The Book of Boba Fett, Ahsoka, and Star Wars: Skeleton Crew expand on The Mandalorian's timeframe.\n",
       "\n",
       "Beginning five years after the events of Return of the Jedi (1983) and the fall of the Galactic Empire,[1][2] The Mandalorian follows Din Djarin, a lone Mandalorian bounty hunter in the outer reaches of the galaxy.[2] He is hired by remnant Imperial forces to retrieve the child Grogu, but instead goes on the run to protect the infant.[3][4] While looking to reunite Grogu with his kind, they are pursued by Moff Gideon, who wants to use Grogu's connection to the Force.[5][4] The duo then travel to Mandalore so Din Djarin can redeem himself for the transgression of removing his helmet.\n",
       "\n",
       "The third season of The Mandalorian was confirmed by Favreau in April 2020.[8] It is set to premiere in February 2023.[7]\n",
       "\n",
       "Pedro Pascal stars as Din Djarin, the series' title character.[2][9][10] Pascal compared Djarin, a lone bounty hunter with advanced combat skills and \"questionable moral character\", to Clint Eastwood.[11] The character's real name is not given until \"Chapter 8: Redemption\", but Pascal accidentally revealed it early in November 2019.[10] His bounty in \"Chapter 1: The Mandalorian\" is \"The Child\"—colloquially known as \"Baby Yoda\" by viewers—an infant of the same species as Yoda, created with animatronics and puppetry (augmented with visual effects). He becomes the Mandalorian's ward,[3] and is revealed to be named Grogu in \"Chapter 13: The Jedi\".[4]\n",
       "\n",
       "The first season features several recurring co-stars, including Carl Weathers as Greef Karga, leader of a bounty hunter guild;[12][11] Werner Herzog as \"the Client\", an enigmatic man;[12][13] Omid Abtahi as Dr. Pershing, a scientist working for the Client;[12][14] Nick Nolte as the voice of Kuiil, an Ugnaught moisture farmer who helps the Mandalorian;[15][16] Taika Waititi as the voice of IG-11, a bounty hunter droid;[17][11] Gina Carano as Cara Dune, a former Rebel shock trooper turned mercenary;[18][11] Giancarlo Esposito as Moff Gideon, a former Imperial officer;[12][19] and Emily Swallow as \"the Armorer\", a Mandalorian who forges armor and equipment from beskar steel.[12][20]\n",
       "\n",
       "Esposito, Carano, Weathers, and Abtahi returned for the second season.[5][21] Several actors appear as characters from previous Star Wars media, including Timothy Olyphant as Cobb Vanth,[22][23] Temuera Morrison as Boba Fett,[24][25] Katee Sackhoff as Bo-Katan Kryze,[26][27] Rosario Dawson as Ahsoka Tano,[28][4] and Mark Hamill as Luke Skywalker.[29] Other recurring co-stars for the season include Amy Sedaris as Peli Motto, reprising her role from the first season;[23] Misty Rosas, the on-set performer for Kuiil in the first season, as the Frog Lady;[30] Mercedes Varnado as Koska Reeves;[27] and Ming-Na Wen as Fennec Shand, also reprising her first season role.[25]\n",
       "\n",
       "Esposito,[31] Weathers,[32] Sackhoff,[7] Swallow, and Abtahi returned for the third season.\n",
       "\n",
       "Star Wars creator George Lucas began development on a live-action Star Wars television series known as Underworld in early 2009. More than 50 scripts were written for the series by 2012, but they were eventually deemed too expensive to produce.[33] In January 2013, ABC president Paul Lee stated that his network would be discussing potential live-action Star Wars television series with Lucasfilm after the latter had been sold by Lucas to ABC's parent company The Walt Disney Company in October 2012.[34] In November 2017, Disney CEO Bob Iger announced that Disney and Lucasfilm were developing a live-action Star Wars television series for the new streaming service Disney+.[35]\n",
       "\n",
       "While working on The Lion King (2019), a photo-realistic remake of the 1994 animated film, in 2017, director Jon Favreau pitched an idea he had for a Star Wars television series featuring Mandalorians to Lucasfilm president Kathleen Kennedy.[36][37] Dave Filoni, executive producer on the animated series Star Wars: The Clone Wars and Star Wars Rebels, had also been conceiving a Mandalorian-focused series, and Kennedy suggested that he and Favreau meet to discuss their ideas.[37] Favreau and Filoni had previously met at the Skywalker Ranch when Favreau was working on Iron Man (2008) and Filoni was working on the first season of The Clone Wars, and Favreau subsequently voiced the Mandalorian character Pre Vizsla in The Clone Wars for Filoni.[11] When Favreau met with Filoni about his series idea, they were able to combine Filoni's knowledge of Mandalorian history with Favreau's lone-gunslinger concept.[37] Filoni also drew a doodle of a baby of the same species as the Star Wars character Yoda which became \"The Child\".[36] Favreau wanted to explore the \"scum and villainy\" of the Star Wars universe following the events of the film Return of the Jedi (1983).[11] He began spending several hours at the end of each day developing the series while he was directing The Lion King.[36]\n",
       "\n",
       "Lucasfilm announced that Favreau would write and executive produce a new Star Wars series for Disney+ in March 2018. Kennedy added that the series was an opportunity for a diverse group of writers and directors to be hired to create Star Wars stories, after the franchise's films had been criticized for being written and directed solely by white men.[38] In May, Favreau stated that he had written scripts for four of the series' eight episodes before being officially hired for the project.[39] On October 3, Favreau announced that the series was titled The Mandalorian and revealed the premise for the show.[2] The following day, Lucasfilm announced that Filoni, Kennedy, and Colin Wilson would executive produce the series alongside Favreau, with Karen Gilchrist acting as co-executive producer.[40] The series premiere was set to be available with the launch of Disney+ in November 2019.[41] Star Pedro Pascal described the series as taking the space Western undertones from the Star Wars films \"and infusing it with steroids\".[42]\n",
       "\n",
       "In July 2019, Favreau confirmed that there would be a second season of the series and that he had begun writing it.[43] Iger announced in February 2020 that the second season would premiere that October.[44] By late April, Favreau had been writing a third season for \"a while\" and further development on the season was beginning.[8] In September, co-star Giancarlo Esposito said the second season would \"start to lay the groundwork for the depth and breadth that's going to come in season 3 and season 4, where you’re really gonna start to get answers\".[45] Rick Famuyiwa, who directed in the first two seasons, was made an executive producer for the third season.[46] By late May 2022, Favreau was writing a fourth season, noting it was being informed by the series Ahsoka (2023).[47]\n",
       "\n",
       "In November 2018, Pedro Pascal was confirmed to be portraying the Mandalorian after being rumored to be cast in the role for some time.[9] Pascal initially thought he was being cast as the Star Wars character Boba Fett due to the visual similarities between that character and the Mandalorian,[48] but the latter is actually a separate character named Din Djarin.[10] Favreau called Pascal \"a classic movie star\" who \"had the presence and skill[s]\" necessary to portray a character largely concealed under a helmet.[49] The Mandalorian is also portrayed by stunt doubles Brendan Wayne and Lateef Crowder.[50] Pascal worked with Favreau and Filoni to record the character's dialogue later.[51][49]\n",
       "\n",
       "In February 2021, Lucasfilm said Gina Carano, a recurring co-star during the first two seasons, was no longer employed by the company. This came after Carano made a social media post comparing being a Republican in the United States to the treatment of Jewish people during the Holocaust, with Lucasfilm saying the post was \"abhorrent and unacceptable\".[52] Carano had been repeatedly warned about her social media posts by Lucasfilm executives who reportedly had been looking for a reason to fire her for two months. The February 2021 posts were \"the final straw\", and the decision to fire the actress was made by Lucasfilm executives rather than Favreau.[52][53] The Walt Disney Company CEO Bob Chapek said Carano was fired because her posts did not align with the values of Disney, which he said were \"universal\" and not political.[54] The Hollywood Reporter reported that Carano's role of Cara Dune was not expected to be recast, though industry insiders felt that was still a possibility due to story and merchandising reasons.[53]\n",
       "\n",
       "The series is filmed at Manhattan Beach Studios in California.[3] Filoni directed the series' first episode, making his live-action directorial debut,[40][55] with Rick Famuyiwa, Deborah Chow, Bryce Dallas Howard, and Taika Waititi also directing for the first season.[40] Filoni,[56] Howard,[57] and Famuyiwa returned for the second season,[58] and were joined by Favreau (who was unable to direct during the first season due to his commitment to The Lion King),[55] Peyton Reed,[59] co-star Carl Weathers,[60] and Robert Rodriguez.[59] Howard,[61] Weathers,[62] and Famuyiwa directed again in the third season.[46]\n",
       "\n",
       "Visual effects studio Industrial Light & Magic, a subsidiary of Lucasfilm, opened a new division in November 2018 called ILM TV, specifically intended for episodic and streaming television. Based in London with support from ILM's San Francisco, Vancouver, and Singapore locations, one of the first projects for the new division was The Mandalorian.[63] While directing The Jungle Book (2016), Favreau had used large screens on set to create interactive lighting so when live action footage was combined with a digital environment in post-production the effect would be more realistic. He found the process to be effective, but time-consuming.[64] When he began working on The Lion King, Favreau worked with visual effects vendor Moving Picture Company, technology developer Magnopus, and the game engine software Unity to develop a new virtual camera system that allowed him to film scenes in a virtual reality environment as if he was filming with physical cameras. For The Lion King, the results of the virtual photography were then rendered by MPC as final animation for the film.[3] On The Mandalorian, Favreau wanted to use the virtual technology to aid live action photography and also develop the video wall system.[3][64] ILM partnered with video game developer Epic Games to create a new system named StageCraft based on Epic's game engine Unreal Engine. StageCraft consists of large LED video screens on which digital environments can be rendered in real time for actors to perform in front of.[65][3]\n",
       "\n",
       "During pre-production, the virtual photography process developed for The Lion King was used to plan the series' filming and determine what environments would be needed on set. The digital environments were then created by ILM and added to StageCraft ready for live action photography with the actors. Some of these environments were based on location photography in countries such as Iceland and Chile, on which Favreau said, \"The actors aren't brought on location. The location is brought to the actors.\"[3] The environments were designed by the series' visual art department, led by Lucasfilm's creative director Doug Chiang and production designer Andrew L. Jones.[66] During filming, the digital environments were rendered on a video wall in real time, allowing the filmmakers and actors to see the environments.[65] ILM used a smaller version of the technology for Solo: A Star Wars Story (2018), but on The Mandalorian they utilized a 21-foot-tall (6.4 m) set that was 75 feet (23 m) in diameter, surrounded by a 360-degree semicircular LED video wall and ceiling. The Manhattan Beach Studios set is referred to as a \"volume\", which is traditionally the name for motion capture stages.[65][3] Favreau's initial intention was to use the video wall as a way to provide realistic interactive lighting for the actors, with a section of the screen behind the actors displaying a green screen so a higher quality version of the background could be added in post-production. During filming tests with the technology, the team realized that the Unreal Engine could render visuals fast enough that they could have the background move in relation to the camera. This allowed the system to maintain the appearance of parallax, where the environment would appear differently based on the angle it was being looked at just as a real 3D environment would. This effect causes some distortion to the image on the video wall, but looks like a real environment when viewed through the camera.[64] The images rendered on the video wall in real time were often of a high enough quality to be used as final effects when filmed on set.[65]\n",
       "\n",
       "Physical elements were added to the volume to match the digital backgrounds, such as dirt on the floor to match dirt displayed on the video wall.[64] Interior spaces were also created, such as an office used by Imperial agents where the walls and ceiling were displayed on the video wall around a physical table.[65] The production had several physical sections of the Razor Crest, the Mandalorian's ship, that could be placed within the volume, such as having the front half of the ship physically built and the back half rendered digitally.[64][65] The environments could be manipulated in StageCraft on set as required, allowing the filmmakers to request changes to the environment and have them rendered on the video wall on the same day.[65] The production was able to change between environments within half an hour, or even faster if the physical elements within the volume were not visible and did not need to be changed.[64] One of the primary advantages of using the video wall technology was the realistic lighting, with the wall providing ambient light and accurate reflections on the actors. This was especially important for the Mandalorian, who wears reflective armor. Traditionally, on a production using green screen, the visual effects team would have to remove the green reflections from a reflective character or object in post-production, and then add new reflections that matched the digital environment. Using StageCraft, the reflections in the Mandalorian's armor were already correct on set. It also allowed for the series' cinematographers to light scenes in a way that would match the background, rather than lighting the set and hoping the digital background would match in post-production as they would have to do with green screen. A technique used by the production to ensure the lighting from the video wall looked natural was to have the actors in shadow, with light from the environment behind them, often creating silhouettes.[64]\n",
       "\n",
       "Composer Ludwig Göransson was recommended by several of his previous collaborators to Favreau, including directors Ryan Coogler and Anthony and Joe Russo, and musician Donald Glover. Favreau knew that music would be important to the series due to the impact of John Williams' score on the Star Wars films, but also wanted the music of the series to be different from the films. He wanted the series to sound \"a little grittier, a little edgier and a little more tech-oriented\".[67] Göransson first met with Favreau in November 2018,[68] when Favreau showed the composer concept art for the series and discussed his inspirations for the story and tone, including Western and samurai films. They also discussed how they felt when they first heard Williams' Star Wars music, and Göransson set out to recreate those feelings and \"capture the soul of what Star Wars is\" but in a new way.[69]\n",
       "\n",
       "Göransson was announced as composer for the series in December 2018.[70] The basis of the main theme was created from Göransson experimenting with a bass recorder, digitally manipulating it to make it more \"futuristic\". Guitars, a piano, drums, and synthesizers are also featured in the main theme.[69] A 70-piece orchestra was used for the first season,[67][68] combined with recordings of Göransson playing the main instruments which he augmented with synthesizers and other digital manipulation.[68] Walt Disney Records released a soundtrack album for each episode of the first season.[68] Because of the COVID-19 pandemic, orchestra players were recorded remotely or in smaller, distant groups for the second season.[5] Two albums were released for the second season, each covering four episodes of the season.[71][72]\n",
       "\n",
       "One of the primary themes of The Mandalorian is parenting and fatherhood, particularly through the father–son relationship dynamic between Din Djarin and the Child.[73][74][75] Ryan Britt of Fatherly wrote that this is unusual in Star Wars stories and that past examples of parenting in the franchise have tended to be poor ones, from the murderous Darth Vader, father of Luke Skywalker, to the neglectful Galen Erso, father of Jyn Erso in Rogue One (2016).[73] Britt wrote: \"For years the Star Wars franchise avoided depicting a parent-child dynamic. With Mando and Baby Yoda, that's finally changing.\"[73] The dynamic between Kuiil and IG-11 also reflect the childrearing theme in The Mandalorian. The two have a relationship similar to that of a father and son, as demonstrated in the scene in which Kuiil teaches IG-11 how to operate and function after the droid is reprogrammed.[76]\n",
       "\n",
       "Vulture writer Kathryn VanArendonk argued that parenting has been the subject of past Star Wars stories, but almost always during later stages of parenthood, rather than an infant in early stages such as the Child. As examples, she cited Obi-Wan Kenobi serving as a mentor to the adolescent Anakin Skywalker, Princess Leia lamenting over her grown son Kylo Ren, or the absence of Rey's parents.[77] Britt argued strong parental examples in Star Wars are important because the franchise is so often associated with the childhoods of its fans.[73] The Mandalorian particularly highlights the challenges of being a single parent[74][75] and a working parent since the Mandalorian struggles to continue his day job as a bounty hunter and mercenary while serving as the sole caretaker of the Child.[77][75] Richard Newby of The Hollywood Reporter described the show as \"the adventures of a single dad looking for a job\".[78] Several reviewers have compared the dynamic between the Child and the Mandalorian to Lone Wolf and Cub, a manga about a samurai warrior and his young son.[79][80][81][82] Favreau acknowledged Lone Wolf and Cub as an influence in an episode of Disney Gallery: The Mandalorian.[83]\n",
       "\n",
       "The Mandalorian's parental role in the series makes him a softer and more relatable character;[84] he changes in a positive way because of raising the Child, becoming less selfish and self-absorbed.[85] He risked his life and drastically changed his career as a bounty hunter to accept his responsibility as the Child's caretaker and guardian,[74][75] marking a significant parental sacrifice.[75] When the Mandalorian seeks work to earn money, he is now doing so to provide not only for himself, but for the Child as well.[74] We see several examples of the Mandalorian parenting the Child throughout the series, such as when he stops the Child from pressing random buttons in the cockpit of the Mandalorian's spaceship, ultimately by holding him in his lap.[73] In another example, the Mandalorian establishes a car seat for the Child in the cockpit of his ship, so he can be seated safely and comfortably during their travels.[86]\n",
       "\n",
       "The relationship between the Mandalorian and the Child is an example of unexpected fatherhood.[77][85] The Mandalorian feels a connection and parental bond with the Child because of his own childhood, when he was orphaned upon the death of his parents and was adopted by the Mandalorian culture as a \"foundling\".[77] Nevertheless, fatherhood is not a role the Mandalorian initially seeks, and he makes repeated initial attempts to avoid this responsibility. He first does so in \"Chapter 3: The Sin\", when he first leaves the Child with the Client.[85] He does so again in \"Chapter 4: Sanctuary\", when he plans to leave the Child with Omera, a protective mother on the planet Sorgan, who is willing to take the Child into her own family. The Mandalorian does not fully commit to the role of fatherhood until the first-season finale, \"Chapter 8: Redemption\", when the Child himself is also adopted into the Mandalorian culture as a \"foundling\" and the Mandalorian is formally declared to be his father figure.[77] He nonetheless continues to search for what he feels may be a more appropriate guardian for the Child, as in the second season's fifth episode, \"The Jedi\", in which he seeks to leave him with Ahsoka Tano.[87]\n",
       "\n",
       "Several writers suggested the fact that the Mandalorian's face is concealed has a tabula rasa effect and his anonymity allows viewers to see and imagine themselves as parents.[73][74] Britt said this \"allow(s) us to dream about what arsenal we might deploy to protect our children\".[73] However, Singer said the show's setting in space make the challenges of child-rearing seem more exciting and exotic than they might otherwise be.[74] Anthony Breznican of Vanity Fair has noted that none of the day-to-day difficulties of parenthood are portrayed in the series: \"There is no shrill squawking from Baby Yoda, no tantrum, no spit-up, no uncontrollable shrieking that burrows into a parent's psyche like a dentist's drill shredding a soft, pink nerve.\"[88] Likewise, Vulture writer Kathryn VanArendonk said the show ignores or does not address many parenting details that make fatherhood difficult, such as what the Child eats, when he goes to sleep, and whether he wears diapers. She wrote: \"The Mandalorian is uninterested in diapers, and so Mando gets to be a very particular image of fatherhood: the guy who doesn't have to sweat the small stuff.\"[77] VanAnderonk described this as a wish fulfillment fantasy for parents or prospective parents: \"a vision of parenting stripped so thoroughly of all detail and specificity that all that's left are archetypes: the parent, the child\".[77]\n",
       "\n",
       "The Child encounters a handful of other protector figures throughout the first season, including Omera, IG-11, and Peli Motto.[77] Some observers have criticized the series for the fact that the Mandalorian repeatedly leaves the Child alone or in the hands of relative strangers,[74] as well as for making decisions that place the Child in danger. One example is in \"Chapter 6: The Prisoner\", when he allows a team of dangerous mercenaries to use his ship while the Child is on board, nearly resulting in the Child's death.[74][89] An interaction the Mandalorian has with Peli Motto in \"Chapter 5: The Gunslinger\" is one of the most overt discussions about the challenges of caring for the Child. When the Mandalorian accidentally wakes the child, who had been sleeping in Peli's arms, she chides him: \"Do you have any idea how long it took me to get it to sleep?\"[77] She also condemns the Mandalorian for leaving the child alone on the ship, saying: \"you have an awful lot to learn about raising a young one\".[90] ScreenCrush writer Matt Singer argued the Mandalorian's parenting errors makes the show that much more appealing because making mistakes is a large part of being a parent.[74] Eileen Chase of Today echoed this: \"He is not an ideal parent, just like the rest of us who have to balance parenting and work.\"[75]\n",
       "\n",
       "The nature of good and evil and the question of nature versus nurture is raised repeatedly throughout The Mandalorian, perhaps most overtly through Kuiil's reprogramming of IG-11 from a bounty hunter to a nurse droid and protector.[91][92] Even after IG-11 is reprogrammed, the Mandalorian does not believe he has truly changed, because he believes droids have an essential nature and that IG-11's nature remains murderous and untrustworthy.[93] But in reprogramming IG-11, Kuiil nurtures him and helps him to change; Kuiil feels that in the process of learning how to function again, IG-11 gained a new personality.[94] Kuiil insists to the Mandalorian: \"Droids are not good or bad — they are neutral reflections of those who program them.\"[92] Keith Phipps of Vulture wrote of IG-11 and the nature versus nurture theme: \"He's not bad. He's just programmed that way, and with care and change he can do a lot of good in the world.\"[91]\n",
       "\n",
       "The Kuiil and IG-11 scenes also demonstrate that the way in which the \"child\" character is raised makes a significant difference in whether the child becomes an asset or a threat to those around him. The droid was a dangerous assassin before Kuiil reprogrammed him, but thanks to the Ugnaught's parenting, he becomes a protector and helper instead.[76] Some writers have likewise suggested the Child is not inherently good or evil,[92][95] but that instead, like all children, he is impressionable and does not fully understand the events occurring around him. He is learning about the world around him and needs guidance as he develops his abilities.[89][92][96] It will largely fall to the Mandalorian to provide this guidance,[89] as when the Mandalorian stops him from strangling Cara Dune.[92]\n",
       "\n",
       "However, multiple writers have questioned whether the violent acts the Child has repeatedly witnessed throughout The Mandalorian are having a negative impact on his development, and that he is learning to become violent himself as a result.[92][97] Phipps wrote of this: \"That look of wonder in the Child's eyes as IG-11 kills and kills again is hilarious, but also a little chilling.\"[91] One particular scene in \"Chapter 7: The Reckoning\" led many reviewers and fans to question whether the Child may be demonstrating evil tendencies. During a scene on the Mandalorian's spaceship, the Child observes as the Mandalorian and Cara Dune engage in a friendly arm wrestling match. During the contest, the Child uses the Force to choke Cara, nearly strangling her before the Mandalorian intervened.[95][96][97] Throughout the Star Wars franchise, that ability has been most commonly associated with the Dark Side of the Force, particularly Darth Vader.[97][98][99]\n",
       "\n",
       "Sarah Bea Milner of Screen Rant wrote: \"The moment is genuinely shocking — and more than a little disturbing.\"[92] Some reviewers noted, however, that the Child likely mistakenly believed the Mandalorian was in danger and intervened to help.[99][100] Additionally, in the same episode, the Child uses Force healing to save Greef Karga, a power typically associated with the Light Side.[92][95][100] Nevertheless, some writers have suggested viewers had been underestimating the Child's capacity for evil because he is so adorable.[99][98][101] Fans speculated the Child could be presenting a false personality or using the Force to manipulate people into caring about him to help ensure his survival.[97] However, Caitlin Gallagher of Bustle suggested rather than building toward making the Child evil, the show could be suggesting the Mandalorian needs to find a way to raise the Child in a less violent environment.[97]\n",
       "\n",
       "The Mandalorian premiered on the streaming service Disney+ on its United States launch day, November 12, 2019.[41] The second season premiered on October 30, 2020.[44] The third season is scheduled to be released in February 2023.[7]\n",
       "\n",
       "According to Nielsen, The Mandalorian's first season amassed 5.42 billion minutes of viewing time during its seven week run, topping at 1.15 billion minutes during the week its finale premiered.[102] It added 800 million more minutes the week after its finale.[102] According to Nielsen, the second season became the most watched streaming television series in the U.S. from December 14 to December 20, with 1.336 billion minutes of viewing time.[103] It also ranked at fourteenth place on Nielsen's list of most watched streaming television shows and movies of 2020 with 14.5 billion minutes watched during the year.[103] The show became the first non-Netflix show landed at number one on Nielsen's streaming ranker.[104] According to Samba TV, the show's second season drew 1.04 million households.[105] The Hollywood Reporter reported that The Mandalorian lead Disney+'s live action series with the majority minutes (8.4 billion) came from the eight weeks the second season debuted.[102]\n",
       "\n",
       "For the first season, the review aggregator website Rotten Tomatoes reported a 93% approval rating with an average rating of 7.9/10 based on 337 reviews. The website's critical consensus reads, \"Action-packed and expertly-crafted—if at times a bit too withholding—The Mandalorian is a welcome addition to the Star Wars universe that benefits greatly from the cuteness of its cargo.\"[106] Metacritic, which uses a weighted average, assigned a score of 70 out of 100 for the season, based on reviews from 29 critics, indicating \"generally favorable reviews\".[107]\n",
       "\n",
       "For the second season, Rotten Tomatoes reported a 93% approval rating with an average score of 8.5/10, based on 450 reviews. The site's critical consensus reads: \"With fan favorites and fresh faces galore both in front of and behind the camera, The Mandalorian's sophomore season solidifies its place as one of Star Wars's most engaging and exciting sagas.\"[108] Metacritic assigned a score of 76 out of 100 based on 14 critics, indicating \"generally favorable reviews\".[109]\n",
       "\n",
       "The Mandalorian has been nominated for six Primetime Emmy Awards and thirty-three Primetime Creative Arts Emmy Awards (winning fourteen Creative Arts Emmys),[110] as well as one British Academy Television Award,[111] one Critics' Choice Television Award,[112] one Directors Guild of America Award,[113] one Golden Globe Award,[114] four Hollywood Critics Association TV Awards (winning one),[115] three Hugo Awards,[116] three MTV Movie & TV Awards,[117] one Producers Guild of America Award,[118] two TCA Awards,[119] nineteen Visual Effects Society Awards (winning five),[120] and one Writers Guild of America Award,[121] among others.\n",
       "\n",
       "The Mandalorian was the first production to be filmed using real time rendering for realistic, parallax environments.[64] Favreau believed that the StageCraft technology developed for the series would have a significant impact on the production of films and television series moving forward.[65] He attributed the breakthroughs made with the technology to the support of Kathleen Kennedy, who was in charge of both Lucasfilm and ILM, as well as to his own drive for innovation, and to previous work done by George Lucas on new technology for the Star Wars films. Favreau also acknowledged that much of the technology involved in StageCraft is not proprietary and is readily available to others, it just had not been combined in this way before.[64] Favreau invited other filmmakers and studios to visit the series' set and see how the new technology was being used, noting that Lucas and other filmmakers such as James Cameron had done the same when they had been working on innovative film projects. Favreau added that the companies working on the series' new technologies—including ILM, Epic, and MPC—were being encouraged to share their work and develop the technology further beyond the requirements of the series.[3] Several actors working on the series, including Carl Weathers and Giancarlo Esposito, gave high praise to the technology and the way it allowed them to act within the environment rather than pretend in front of green screen.[64] After learning lessons about the technology during production on the first season of The Mandalorian, ILM was able to make several advancements beginning with the second season. This included transitioning StageCraft to a fully in-house product utilizing ILM's own game engine, Helios, rather than Epic's Unreal Engine.[66] In February 2020, ILM announced that it was making its StageCraft technology available to all filmmakers and production studios as a complete end-to-end solution,[65] and that December, it was announced that three additional StageCraft volumes–in Los Angeles, London, and Australia–were being built.[122]\n",
       "\n",
       "In November 2019, Walt Disney Studios CCO Alan Horn said if the series was successful, a film featuring the Mandalorian could be developed.[123] The next month, Favreau said there was an opportunity to explore the series' characters in other Star Wars films or television series.[3] Bob Iger said in February 2020 that spin-offs of The Mandalorian were being considered, and there was potential to add more characters to the series with the intention of then giving them their own series.[124] Favreau said in October that as more characters are introduced in the series, \"we are beginning to explore where we could go\". He felt Lucasfilm could be \"more responsive\" to audience reactions in determining potential spin-offs due to the faster production time for television series than films. Favreau looked to his experience working in the Marvel Cinematic Universe, where smaller stories exist within the larger narrative, as a potential guide for spin-offs. Additionally, both Favreau and Pascal were open to the idea of the Mandalorian appearing in a Star Wars film, but Favreau was in \"no rush\" to do this.[125]\n",
       "\n",
       "In December 2020, the spin-off series Rangers of the New Republic, Ahsoka, and The Book of Boba Fett were announced,[126][127][128] with all three series developed by Favreau and Filoni, set within The Mandalorian's timeframe, and planned to culminate in a \"climactic story event\".[129] Before Lucasfilm announced that Carano was no longer employed by the company in February 2021, The Hollywood Reporter had reported that there was potential for her to star in Rangers of the New Republic.[52] Active development on the series had not begun by that May,[130] and it was still on hold in November when Kennedy said development had not reached a point where scripts were written. She said there was potential for ideas from the series to be incorporated into The Mandalorian's \"next iteration\".[131] A new series, Star Wars: Skeleton Crew, was announced in May 2022 after being developed by Jon Watts and Christopher Ford. Favreau and Filoni were revealed to be serving as executive producers on the series,[132] which is also set in the timeframe of The Mandalorian and Ahsoka.[133]\n",
       "\n",
       "Favreau discussed the spin-offs in August 2022, explaining that The Mandalorian, The Book of Boba Fett, Ahsoka, and Skeleton Crew were all set in the same timeframe—during the 30 years between Return of the Jedi and Star Wars: The Force Awakens (2015)—which had \"a lot of room for us to tell stories, and there are a lot of characters that are in play because we know who's around at that time\". He noted that they were using The Mandalorian to remind fans of these characters or introduce them to unfamiliar audiences before they appeared in the spin-off series, which created interconnected stories and characters within a \"very rich fabric for us to explore\".[134]\n",
       "\n",
       "A spin-off miniseries focused on Boba Fett was reported in November 2020.[135] It was officially announced as The Book of Boba Fett a month later, and was already in production by that point. Favreau, Filoni, and Robert Rodriguez executive produced, with Morrison and Wen reprising their respective roles as Fett and Fennec Shand.[128] Pascal, Swallow, Sedaris,[136] Olyphant, Dawson, and Hamill also reprise their roles,[137] along with Favreau as the voice of Paz Vizsla, Paul Sun-Hyung Lee as Carson Teva,[136] and W. Earl Brown as the Weequay bartender.[138] Grogu also appears.[137] The seven-episode series was released from December 2021 to February 2022.[139]\n",
       "\n",
       "A limited series titled Ahsoka, featuring Dawson reprising her role as Ahsoka Tano, was revealed in December 2020 with Filoni writing and executive producing alongside Favreau.[127] The series is scheduled to be released in 2023.[37]\n",
       "\n",
       "A documentary series, Disney Gallery: The Mandalorian, features interviews with the cast and crew of The Mandalorian, behind-the-scenes footage, and roundtable conversations hosted by Favreau that explore the production of the series. The first season premiered on Disney+ on May 4, 2020, Star Wars Day.[140] An hour-long special covering the second season was released on December 25, 2020,[141] with a second special episode covering the season two finale released on August 25, 2021.[142]\n",
       "\n",
       "Lucasfilm announced a publishing campaign of tie-in books and comics for the series in June 2020. The campaign was announced to include The Art of The Mandalorian (Season One) by Phil Szostak, an original adult novel written by Adam Christopher and published by Del Rey Books, a visual guide written by Pablo Hidalgo and published by DK, a junior novelization of the first season written by Joe Schreiber, and comic books inspired by the series to be published by Marvel Comics and IDW.[143] One month later, the novel by Christopher was delayed from December 2020 to November 2021, before both it and the visual guide by Hidalgo were cancelled in March 2021.[144][145] Hidalgo stated in December 2021 that the publishing program had been put on hold to avoid any potential contradictions or restrictions that may have arisen between the published material and the spin-off series in development.[146]\n",
       "\n",
       "In November 2020, Minecraft released Star Wars-themed downloadable content which included locations and characters from The Mandalorian.[147] Din Djarin and Grogu appear as unlockable cosmetics in Zero Point, Fortnite Battle Royale's Chapter 2 event. Djarin's sniper rifle and jetpack were also available as usable items.[148] Some of the characters in the series are playable characters in Disney Magic Kingdoms.[149] Characters from the first two seasons of the series were made available as downloadable content for Lego Star Wars: The Skywalker Saga.[150]\n",
       "• None Belluomini, L. (2022). \"The Mandalorian as Philosophy: \"This Is the Way\" \". In Johnson D. K. (ed.). The Palgrave Handbook of Popular Culture as Philosophy. Palgrave Macmillan, Cham. doi:10.1007/978-3-319-97134-6_104-1. ISBN . S2CID 245779254."
      ]
     },
     "execution_count": 25,
     "metadata": {},
     "output_type": "execute_result"
    }
   ],
   "source": [
    "dataset = nlp(article.cleaned_text)\n",
    "dataset"
   ]
  },
  {
   "cell_type": "code",
   "execution_count": 26,
   "metadata": {},
   "outputs": [],
   "source": [
    "# displacy.render(dataset, style = 'ent', jupyter=True)"
   ]
  },
  {
   "cell_type": "code",
   "execution_count": 27,
   "metadata": {},
   "outputs": [],
   "source": [
    "def preprocessing(sentence):\n",
    "\t# a A -- convert to lower case\n",
    "\tsentence = sentence.lower()\n",
    "\tsentence = sentence.replace('.', '') # useful for when spacy replaces unrecognized symbols with . or [\n",
    "\ttokens = []\n",
    "\ttokens = [token.text for token in nlp(sentence) if not (token.is_stop or token.like_num or token.is_punct or token.is_space or len(token) == 1)]\n",
    "\ttokens = ' '.join([element for element in tokens])\n",
    "\n",
    "\treturn tokens"
   ]
  },
  {
   "cell_type": "code",
   "execution_count": 28,
   "metadata": {},
   "outputs": [],
   "source": [
    "cleaned_article = preprocessing(article.cleaned_text)"
   ]
  },
  {
   "cell_type": "code",
   "execution_count": 29,
   "metadata": {},
   "outputs": [],
   "source": [
    "original_sentenes = [sentence for sentence in nltk.sent_tokenize(article.cleaned_text)]"
   ]
  },
  {
   "cell_type": "code",
   "execution_count": 30,
   "metadata": {},
   "outputs": [],
   "source": [
    "from sumy.parsers.plaintext import PlaintextParser\n",
    "from sumy.nlp.tokenizers import Tokenizer\n",
    "from sumy.summarizers.sum_basic import SumBasicSummarizer\n"
   ]
  },
  {
   "cell_type": "code",
   "execution_count": 31,
   "metadata": {},
   "outputs": [],
   "source": [
    "parser = PlaintextParser.from_string(article.cleaned_text, Tokenizer('english'))\n",
    "summarizer = SumBasicSummarizer()\n",
    "summary = summarizer(parser.document, 14)"
   ]
  },
  {
   "cell_type": "code",
   "execution_count": 32,
   "metadata": {},
   "outputs": [
    {
     "data": {
      "text/plain": [
       "(<Sentence: Subsequently, work on a new Star Wars series began for Disney+.>,\n",
       " <Sentence: This has since been adopted by other film and television productions.>,\n",
       " <Sentence: The Mandalorian premiered with the launch of Disney+ on November 12, 2019.>,\n",
       " <Sentence: A fourth season is in development.>,\n",
       " <Sentence: Pedro Pascal stars as Din Djarin, the series' title character.>,\n",
       " <Sentence: More than 50 scripts were written for the series by 2012, but they were eventually deemed too expensive to produce.>,\n",
       " <Sentence: [43] Iger announced in February 2020 that the second season would premiere that October.>,\n",
       " <Sentence: [46] By late May 2022, Favreau was writing a fourth season, noting it was being informed by the series Ahsoka (2023).>,\n",
       " <Sentence: The location is brought to the actors.>,\n",
       " <Sentence: He first does so in \"Chapter 3: The Sin\", when he first leaves the Child with the Client.>,\n",
       " <Sentence: [94] Kuiil insists to the Mandalorian: \"Droids are not good or bad — they are neutral reflections of those who program them.>,\n",
       " <Sentence: Favreau, Filoni, and Robert Rodriguez executive produced, with Morrison and Wen reprising their respective roles as Fett and Fennec Shand.>,\n",
       " <Sentence: [138] Grogu also appears.>,\n",
       " <Sentence: [127] The series is scheduled to be released in 2023.>)"
      ]
     },
     "execution_count": 32,
     "metadata": {},
     "output_type": "execute_result"
    }
   ],
   "source": [
    "summary"
   ]
  },
  {
   "cell_type": "code",
   "execution_count": 33,
   "metadata": {},
   "outputs": [],
   "source": [
    "best_sentences = []\n",
    "for sentence in summary:\n",
    "    best_sentences.append(str(sentence))"
   ]
  },
  {
   "cell_type": "code",
   "execution_count": 35,
   "metadata": {},
   "outputs": [
    {
     "data": {
      "text/html": [
       "<h1>Summary - The Mandalorian - Wikipedia <h1>"
      ],
      "text/plain": [
       "<IPython.core.display.HTML object>"
      ]
     },
     "metadata": {},
     "output_type": "display_data"
    },
    {
     "name": "stdout",
     "output_type": "stream",
     "text": [
      "Subsequently, work on a new Star Wars series began for Disney+.\n",
      "This has since been adopted by other film and television productions.\n",
      "The Mandalorian premiered with the launch of Disney+ on November 12, 2019.\n",
      "A fourth season is in development.\n",
      "Pedro Pascal stars as Din Djarin, the series' title character.\n",
      "More than 50 scripts were written for the series by 2012, but they were eventually deemed too expensive to produce.\n",
      "[43] Iger announced in February 2020 that the second season would premiere that October.\n",
      "[46] By late May 2022, Favreau was writing a fourth season, noting it was being informed by the series Ahsoka (2023).\n",
      "The location is brought to the actors.\n",
      "He first does so in \"Chapter 3: The Sin\", when he first leaves the Child with the Client.\n",
      "[94] Kuiil insists to the Mandalorian: \"Droids are not good or bad — they are neutral reflections of those who program them.\n",
      "Favreau, Filoni, and Robert Rodriguez executive produced, with Morrison and Wen reprising their respective roles as Fett and Fennec Shand.\n",
      "[138] Grogu also appears.\n",
      "[127] The series is scheduled to be released in 2023.\n"
     ]
    },
    {
     "data": {
      "text/html": [
       " <mark>Subsequently, work on a new Star Wars series began for Disney+.</mark> <mark>This has since been adopted by other film and television productions.</mark> <mark>The Mandalorian premiered with the launch of Disney+ on November 12, 2019.</mark> <mark>A fourth season is in development.</mark> <mark>Pedro Pascal stars as Din Djarin, the series' title character.</mark> <mark>More than 50 scripts were written for the series by 2012, but they were eventually deemed too expensive to produce.</mark> <mark>[43] Iger announced in February 2020 that the second season would premiere that October.</mark> <mark>[46] By late May 2022, Favreau was writing a fourth season, noting it was being informed by the series Ahsoka (2023).</mark> <mark>The location is brought to the actors.</mark> <mark>He first does so in \"Chapter 3: The Sin\", when he first leaves the Child with the Client.</mark> <mark>[94] Kuiil insists to the Mandalorian: \"Droids are not good or bad — they are neutral reflections of those who program them.</mark> <mark>Favreau, Filoni, and Robert Rodriguez executive produced, with Morrison and Wen reprising their respective roles as Fett and Fennec Shand.</mark> <mark>[138] Grogu also appears.</mark> <mark>[127] The series is scheduled to be released in 2023.</mark>"
      ],
      "text/plain": [
       "<IPython.core.display.HTML object>"
      ]
     },
     "metadata": {},
     "output_type": "display_data"
    }
   ],
   "source": [
    "from IPython.core.display import HTML\n",
    "text = ''\n",
    "display(HTML(f'<h1>Summary - {article.title} <h1>'))\n",
    "for sentence in best_sentences:\n",
    "\t#print(sentence)\n",
    "\tif sentence in best_sentences:\n",
    "\t\ttext += ' ' + str(sentence).replace(sentence, f\"<mark>{sentence}</mark>\")\n",
    "\telse:\n",
    "\t\ttext += ' ' + sentence\n",
    "display (HTML(f\"\"\"{text}\"\"\"))"
   ]
  },
  {
   "cell_type": "code",
   "execution_count": null,
   "metadata": {},
   "outputs": [],
   "source": []
  }
 ],
 "metadata": {
  "kernelspec": {
   "display_name": "Python 3.10.6 ('env_spacytester')",
   "language": "python",
   "name": "python3"
  },
  "language_info": {
   "codemirror_mode": {
    "name": "ipython",
    "version": 3
   },
   "file_extension": ".py",
   "mimetype": "text/x-python",
   "name": "python",
   "nbconvert_exporter": "python",
   "pygments_lexer": "ipython3",
   "version": "3.10.6"
  },
  "orig_nbformat": 4,
  "vscode": {
   "interpreter": {
    "hash": "480aa8cf960830b7f209659f7595ecf0687144159d1b3438ec8c9781a9a8d865"
   }
  }
 },
 "nbformat": 4,
 "nbformat_minor": 2
}
